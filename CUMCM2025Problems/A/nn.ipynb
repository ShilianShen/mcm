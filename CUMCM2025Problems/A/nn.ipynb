{
 "cells": [
  {
   "cell_type": "code",
   "id": "a17f578eaa18ff25",
   "metadata": {
    "ExecuteTime": {
     "end_time": "2025-09-05T18:19:20.493352Z",
     "start_time": "2025-09-05T18:19:20.487913Z"
    }
   },
   "source": [
    "import numpy as np\n",
    "from torch import nn\n",
    "from torch.nn import MSELoss\n",
    "%matplotlib notebook\n",
    "from func import *\n",
    "import torch\n",
    "from torch.utils.data import TensorDataset, DataLoader"
   ],
   "outputs": [],
   "execution_count": 25
  },
  {
   "metadata": {
    "ExecuteTime": {
     "end_time": "2025-09-05T18:19:20.504859Z",
     "start_time": "2025-09-05T18:19:20.501169Z"
    }
   },
   "cell_type": "code",
   "source": [
    "np.random.seed(42)\n",
    "torch.manual_seed(42)"
   ],
   "id": "603c968cf2ac63e3",
   "outputs": [
    {
     "data": {
      "text/plain": [
       "<torch._C.Generator at 0x11e66d370>"
      ]
     },
     "execution_count": 26,
     "metadata": {},
     "output_type": "execute_result"
    }
   ],
   "execution_count": 26
  },
  {
   "metadata": {
    "collapsed": true,
    "ExecuteTime": {
     "end_time": "2025-09-05T18:19:20.517342Z",
     "start_time": "2025-09-05T18:19:20.515108Z"
    }
   },
   "cell_type": "code",
   "source": [
    "def loss_func(speed, theta, t_drop, t_detonate):\n",
    "    set_fy_mission(0, speed, theta)\n",
    "    interval = get_time_interval(0, 0, t_drop, t_detonate)\n",
    "    period = get_lebesgue(interval)\n",
    "    loss = -period\n",
    "    return loss"
   ],
   "id": "initial_id",
   "outputs": [],
   "execution_count": 27
  },
  {
   "metadata": {
    "ExecuteTime": {
     "end_time": "2025-09-05T18:19:20.529569Z",
     "start_time": "2025-09-05T18:19:20.526878Z"
    }
   },
   "cell_type": "code",
   "source": [
    "class Net(nn.Module):\n",
    "    def __init__(self):\n",
    "        super(Net, self).__init__()\n",
    "        self.linear = nn.ModuleList([\n",
    "            nn.Linear(4, 64),\n",
    "            nn.Linear(64, 256),\n",
    "            nn.Linear(256, 512),\n",
    "            nn.Linear(512, 32),\n",
    "            nn.Linear(32, 4),\n",
    "            nn.Linear(4, 1),\n",
    "        ])\n",
    "        self.relu = nn.ReLU()\n",
    "\n",
    "    def forward(self, x):\n",
    "        for layer in self.linear[:-1]:\n",
    "            x = self.relu(layer(x))\n",
    "        x = self.linear[-1](x)\n",
    "        return x"
   ],
   "id": "c09908daf2194e27",
   "outputs": [],
   "execution_count": 28
  },
  {
   "metadata": {
    "ExecuteTime": {
     "end_time": "2025-09-05T18:19:20.539442Z",
     "start_time": "2025-09-05T18:19:20.537400Z"
    }
   },
   "cell_type": "code",
   "source": [
    "\"\"\"para_min = np.array([fy_speed_min, 0, 0, 0])\n",
    "para_max = np.array([fy_speed_max, 2*np.pi, t_max, t_max])\n",
    "num_dataset = 1000000\n",
    "x_set = para_min + (para_max - para_min) * np.random.rand(num_dataset, 1)\n",
    "y_set = np.zeros([num_dataset])\n",
    "for i in range(num_dataset):\n",
    "    print('\\r', i, end='')\n",
    "    y_set[i] = loss_func(*x_set[i])\n",
    "    if i % 100 == 0:\n",
    "        np.savez(f\"nn_data{i % 1000}.npz\", x=x_set, y=y_set)\"\"\""
   ],
   "id": "15bde590367ef16",
   "outputs": [
    {
     "data": {
      "text/plain": [
       "'para_min = np.array([fy_speed_min, 0, 0, 0])\\npara_max = np.array([fy_speed_max, 2*np.pi, t_max, t_max])\\nnum_dataset = 1000000\\nx_set = para_min + (para_max - para_min) * np.random.rand(num_dataset, 1)\\ny_set = np.zeros([num_dataset])\\nfor i in range(num_dataset):\\n    print(\\'\\r\\', i, end=\\'\\')\\n    y_set[i] = loss_func(*x_set[i])\\n    if i % 100 == 0:\\n        np.savez(f\"nn_data{i % 1000}.npz\", x=x_set, y=y_set)'"
      ]
     },
     "execution_count": 29,
     "metadata": {},
     "output_type": "execute_result"
    }
   ],
   "execution_count": 29
  },
  {
   "metadata": {
    "ExecuteTime": {
     "end_time": "2025-09-05T18:19:20.610625Z",
     "start_time": "2025-09-05T18:19:20.607376Z"
    }
   },
   "cell_type": "code",
   "source": [
    "data = np.load(\"nn_data0.npz\")\n",
    "X_tensor = torch.from_numpy(data[\"x\"]).float()  # 转换为float32类型\n",
    "y_tensor = torch.from_numpy(data[\"y\"]).float()   # 转换为long类型（用于分类）\n",
    "dataset = TensorDataset(X_tensor, y_tensor)\n",
    "dataloader = DataLoader(dataset, batch_size=32, shuffle=True)"
   ],
   "id": "cb7390fb8adc2e39",
   "outputs": [],
   "execution_count": 30
  },
  {
   "metadata": {
    "ExecuteTime": {
     "end_time": "2025-09-05T18:19:20.620041Z",
     "start_time": "2025-09-05T18:19:20.617979Z"
    }
   },
   "cell_type": "code",
   "source": "net = Net()",
   "id": "52b94751cee64991",
   "outputs": [],
   "execution_count": 31
  },
  {
   "metadata": {
    "jupyter": {
     "is_executing": true
    },
    "ExecuteTime": {
     "start_time": "2025-09-05T18:19:20.631865Z"
    }
   },
   "cell_type": "code",
   "source": [
    "net.train()\n",
    "optimizer = torch.optim.Adam(net.parameters(), lr=1e-4)\n",
    "loss_fc = MSELoss()\n",
    "for epoch in range(100):\n",
    "    print('\\r', epoch, end=' ')\n",
    "    epoch_loss = 0\n",
    "\n",
    "    for x, y in dataloader:\n",
    "\n",
    "        net_y = net(x)\n",
    "        loss = loss_fc(net_y, y)\n",
    "        optimizer.zero_grad()\n",
    "\n",
    "        loss.backward()\n",
    "        optimizer.step()\n",
    "\n",
    "        epoch_loss += loss.item()\n",
    "\n",
    "    print(epoch_loss / len(dataloader))"
   ],
   "id": "a15e27584b980fa2",
   "outputs": [
    {
     "name": "stdout",
     "output_type": "stream",
     "text": [
      " 0 0.2128387729998237\n",
      " 1 0.2127321745548993\n",
      " 2 0.21318830012841258\n",
      " 3 0.21271856794300587\n",
      " 4 0.21272044043803315\n",
      " 5 0.21331413939738197\n",
      " 6 0.2127427955774634\n",
      " 7 0.21280489375403744\n",
      " 8 0.21271786551380448\n",
      " 9 0.21271989194116295\n",
      " 10 0.2130564153263929\n",
      " 11 0.21302315323148915\n",
      " 12 0.21271485460898293\n",
      " 13 0.21272075212330246\n",
      " 14 0.21302861461876585\n",
      " 15 0.21271744968820372\n",
      " 16 0.21272008363524877\n",
      " 17 0.21271989217995088\n",
      " 18 0.2129409067597844\n",
      " 19 0.21271998890445257\n",
      " 20 "
     ]
    }
   ],
   "execution_count": null
  },
  {
   "metadata": {
    "ExecuteTime": {
     "end_time": "2025-09-05T18:19:19.498007Z",
     "start_time": "2025-09-05T18:13:47.098589Z"
    }
   },
   "cell_type": "code",
   "source": [
    "net.eval()\n",
    "with torch.no_grad():\n",
    "    res = 0\n",
    "    for x, y in dataloader:\n",
    "        net_y = net(x)\n",
    "        res += torch.abs(net_y - y).sum()\n",
    "    print(res / len(dataloader))"
   ],
   "id": "3f4fc563e883daba",
   "outputs": [
    {
     "name": "stdout",
     "output_type": "stream",
     "text": [
      "tensor(127.0951)\n"
     ]
    }
   ],
   "execution_count": 105
  }
 ],
 "metadata": {
  "kernelspec": {
   "display_name": "Python 3",
   "language": "python",
   "name": "python3"
  },
  "language_info": {
   "codemirror_mode": {
    "name": "ipython",
    "version": 2
   },
   "file_extension": ".py",
   "mimetype": "text/x-python",
   "name": "python",
   "nbconvert_exporter": "python",
   "pygments_lexer": "ipython2",
   "version": "2.7.6"
  }
 },
 "nbformat": 4,
 "nbformat_minor": 5
}
