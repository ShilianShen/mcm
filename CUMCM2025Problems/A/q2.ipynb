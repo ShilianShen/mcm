{
 "cells": [
  {
   "cell_type": "code",
   "id": "676bff74c15c2efa",
   "metadata": {},
   "source": [
    "import numpy as np\n",
    "%matplotlib notebook\n",
    "from func import *"
   ],
   "outputs": [],
   "execution_count": null
  },
  {
   "metadata": {
    "collapsed": true
   },
   "cell_type": "code",
   "source": [
    "SPEED = 0\n",
    "THETA = 1\n",
    "T_DROP = 2\n",
    "T_DETONATE = 3"
   ],
   "id": "initial_id",
   "outputs": [],
   "execution_count": null
  },
  {
   "metadata": {},
   "cell_type": "markdown",
   "source": [
    "$$\n",
    "\\arg\\max t = \\arg\\max(t-\\alpha) = \\arg\\min(\\alpha - t)\n",
    "$$"
   ],
   "id": "174505cba978ab4e"
  },
  {
   "metadata": {},
   "cell_type": "code",
   "source": [
    "def loss_func(x):\n",
    "    speed, theta, t_drop, t_detonate = x\n",
    "    set_fy_mission(0, speed, theta)\n",
    "    interval = get_time_interval(0, 0, t_drop, t_detonate)\n",
    "    period = get_lebesgue(interval)\n",
    "    loss = -period\n",
    "    return loss"
   ],
   "id": "ea7123148f3bf80",
   "outputs": [],
   "execution_count": null
  },
  {
   "metadata": {},
   "cell_type": "code",
   "source": [
    "initial_params = [120, 3.141592653589793, 1.5, 3.6]\n",
    "bounds = [(fy_speed_min, fy_speed_max), (0, 2 * np.pi), (0, missile_life[0]), (0, missile_life[0])]"
   ],
   "id": "5a584abb35ebef23",
   "outputs": [],
   "execution_count": null
  },
  {
   "metadata": {},
   "cell_type": "code",
   "source": [
    "from scipy.optimize import minimize\n",
    "methods = ['L-BFGS-B', 'SLSQP', 'TNC']  # 这些方法都支持边界约束\n",
    "\n",
    "best_result = None\n",
    "best_loss = float('inf')\n",
    "\n",
    "for method in methods:\n",
    "    try:\n",
    "        result = minimize(\n",
    "            loss_func,\n",
    "            initial_params,\n",
    "            method=method,\n",
    "            bounds=bounds,\n",
    "            options={'maxiter': 10000, 'disp': True}\n",
    "        )\n",
    "\n",
    "        if result.success and result.fun < best_loss:\n",
    "            best_result = result\n",
    "            best_loss = result.fun\n",
    "\n",
    "    except Exception as e:\n",
    "        print(f\"Method {method} failed: {e}\")\n",
    "\n",
    "if best_result is not None:\n",
    "    print(\"优化结果:\")\n",
    "    print(f\"最优参数: {best_result.x}\")\n",
    "    print(f\"最小损失值: {best_result.fun}\")\n",
    "    print(f\"优化是否成功: {best_result.success}\")\n",
    "    print(f\"迭代次数: {best_result.nit}\")\n",
    "    print(f\"函数调用次数: {best_result.nfev}\")\n",
    "else:\n",
    "    print(\"所有优化方法都失败了\")\n",
    "\n",
    "# 如果你想要使用梯度下降（虽然对于有边界的问题，上述方法更好）\n",
    "# 你也可以尝试使用带投影的梯度下降\n",
    "from scipy.optimize import minimize\n",
    "\n",
    "# 使用投影函数确保参数在边界内\n",
    "def project_to_bounds(x):\n",
    "    x_projected = x.copy()\n",
    "    x_projected[0] = np.clip(x[0], bounds[0][0], bounds[0][1])\n",
    "    x_projected[1] = np.clip(x[1], bounds[1][0], bounds[1][1])\n",
    "    x_projected[2] = max(x[2], bounds[2][0])\n",
    "    x_projected[3] = max(x[3], bounds[3][0])\n",
    "    return x_projected\n",
    "\n",
    "# 使用无约束优化方法+投影\n",
    "result_gd = minimize(\n",
    "    lambda x: loss_func(project_to_bounds(x)),\n",
    "    initial_params,\n",
    "    method='BFGS',  # 或者 'CG'\n",
    "    options={'maxiter': 10000, 'disp': True}\n",
    ")\n",
    "\n",
    "# 将结果投影回边界\n",
    "optimized_params = project_to_bounds(result_gd.x)\n",
    "print(f\"梯度下降优化结果: {optimized_params}\")\n",
    "print(f\"最终损失值: {loss_func(optimized_params)}\")"
   ],
   "id": "710c573499971768",
   "outputs": [],
   "execution_count": null
  },
  {
   "metadata": {},
   "cell_type": "code",
   "source": [
    "with content:\n",
    "    loss_func(optimized_params)\n",
    "draw_content()"
   ],
   "id": "1e38b45ad3507ce",
   "outputs": [],
   "execution_count": null
  }
 ],
 "metadata": {
  "kernelspec": {
   "display_name": "Python 3",
   "language": "python",
   "name": "python3"
  },
  "language_info": {
   "codemirror_mode": {
    "name": "ipython",
    "version": 2
   },
   "file_extension": ".py",
   "mimetype": "text/x-python",
   "name": "python",
   "nbconvert_exporter": "python",
   "pygments_lexer": "ipython2",
   "version": "2.7.6"
  }
 },
 "nbformat": 4,
 "nbformat_minor": 5
}
