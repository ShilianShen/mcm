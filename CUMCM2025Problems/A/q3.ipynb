{
 "cells": [
  {
   "cell_type": "code",
   "id": "676bff74c15c2efa",
   "metadata": {
    "ExecuteTime": {
     "end_time": "2025-09-06T19:34:28.946192Z",
     "start_time": "2025-09-06T19:34:28.686968Z"
    }
   },
   "source": [
    "import numpy as np\n",
    "%matplotlib notebook\n",
    "from func import *"
   ],
   "outputs": [],
   "execution_count": 1
  },
  {
   "metadata": {
    "ExecuteTime": {
     "end_time": "2025-09-06T19:34:28.955634Z",
     "start_time": "2025-09-06T19:34:28.952459Z"
    }
   },
   "cell_type": "code",
   "source": [
    "def loss_func(x):\n",
    "    speed, theta, t_drop, t_detonate = de_standardize(x)\n",
    "    set_fy_mission(0, speed, theta)\n",
    "    interval = get_time_interval(0, 0, t_drop, t_detonate)\n",
    "    period = get_lebesgue(interval)\n",
    "    loss = -period\n",
    "    return loss"
   ],
   "id": "ea7123148f3bf80",
   "outputs": [],
   "execution_count": 2
  },
  {
   "metadata": {
    "ExecuteTime": {
     "end_time": "2025-09-06T19:34:29.510352Z",
     "start_time": "2025-09-06T19:34:29.029634Z"
    }
   },
   "cell_type": "code",
   "source": [
    "initial_param = standardize(np.array([120, 3.141592653589793, 1.5, 3.6]))\n",
    "initial_loss = loss_func(initial_param)"
   ],
   "id": "5a584abb35ebef23",
   "outputs": [],
   "execution_count": 3
  },
  {
   "metadata": {
    "jupyter": {
     "is_executing": true
    },
    "ExecuteTime": {
     "start_time": "2025-09-06T19:34:29.514485Z"
    }
   },
   "cell_type": "code",
   "source": [
    "lr = 1e-3\n",
    "param = initial_param.copy()\n",
    "opt_params = [initial_param.copy()]\n",
    "opt_losses = [initial_loss]\n",
    "num_steps = 20\n",
    "for i in range(num_steps):\n",
    "    print(f\"step: {i}/{num_steps}\", end=\" \")\n",
    "\n",
    "    grad = get_grad(param, lr, loss_func)\n",
    "    if norm(grad) == 0:\n",
    "        lr *= 0.5\n",
    "        print(f\"norm grad == 0, lr={lr}\")\n",
    "        continue\n",
    "    grad /= norm(grad)\n",
    "\n",
    "    param -= grad * lr\n",
    "    loss = loss_func(param)\n",
    "\n",
    "    if opt_losses[-1] + 2e-3 < loss:\n",
    "        param = opt_params[-1].copy()\n",
    "        lr *= 0.5\n",
    "        print(f\"loss raise, lr={lr}\")\n",
    "        continue\n",
    "\n",
    "    print(param, loss)\n",
    "    opt_params.append(param)\n",
    "    opt_losses.append(loss)\n",
    "\n",
    "opt_params_array = np.array(opt_params)\n",
    "opt_losses_array = np.array(opt_losses)"
   ],
   "id": "dd1da7d870225248",
   "outputs": [
    {
     "name": "stdout",
     "output_type": "stream",
     "text": [
      "step: 0/20 [0.71426754 0.49923649 0.02204294 0.05427737] -1.9400000000000004\n",
      "step: 1/20 [0.71425799 0.49860626 0.02163233 0.05493625] -2.460000000000001\n",
      "step: 2/20 [0.71423834 0.49809532 0.02119018 0.05567318] -3.000000000000001\n",
      "step: 3/20 [0.7142274  0.49810626 0.02068705 0.05653725] -3.42\n",
      "step: 4/20 [0.71421622 0.49771519 0.02024011 0.05734173] -3.95\n",
      "step: 5/20 [0.71420321 0.49783229 0.01971967 0.05818746] -4.260000000000001\n",
      "step: 6/20 loss raise, lr=0.0005\n",
      "step: 7/20 loss raise, lr=0.00025\n",
      "step: 8/20 "
     ]
    }
   ],
   "execution_count": null
  },
  {
   "metadata": {
    "ExecuteTime": {
     "end_time": "2025-09-06T19:20:02.969818Z",
     "start_time": "2025-09-06T19:13:54.105305Z"
    }
   },
   "cell_type": "code",
   "source": [
    "index = np.argmin(opt_losses_array)\n",
    "min_param = opt_params_array[index]\n",
    "min_loss = opt_losses_array[index]\n",
    "print(min_param)\n",
    "print(min_loss)"
   ],
   "id": "5431c28a3ccf25cf",
   "outputs": [
    {
     "name": "stdout",
     "output_type": "stream",
     "text": [
      "[0.71420321 0.49811367 0.01879845 0.05881126]\n",
      "-4.3100000000000005\n"
     ]
    }
   ],
   "execution_count": 11
  }
 ],
 "metadata": {
  "kernelspec": {
   "display_name": "Python 3",
   "language": "python",
   "name": "python3"
  },
  "language_info": {
   "codemirror_mode": {
    "name": "ipython",
    "version": 2
   },
   "file_extension": ".py",
   "mimetype": "text/x-python",
   "name": "python",
   "nbconvert_exporter": "python",
   "pygments_lexer": "ipython2",
   "version": "2.7.6"
  }
 },
 "nbformat": 4,
 "nbformat_minor": 5
}
