{
 "cells": [
  {
   "cell_type": "code",
   "id": "a17f578eaa18ff25",
   "metadata": {
    "ExecuteTime": {
     "end_time": "2025-09-05T17:54:05.275471Z",
     "start_time": "2025-09-05T17:54:04.393642Z"
    }
   },
   "source": [
    "import numpy as np\n",
    "from torch import nn\n",
    "%matplotlib notebook\n",
    "from func import *\n",
    "import torch\n",
    "from torch.utils.data import TensorDataset, DataLoader"
   ],
   "outputs": [],
   "execution_count": 2
  },
  {
   "metadata": {
    "ExecuteTime": {
     "end_time": "2025-09-05T17:54:05.302981Z",
     "start_time": "2025-09-05T17:54:05.278629Z"
    }
   },
   "cell_type": "code",
   "source": [
    "np.random.seed(42)\n",
    "torch.manual_seed(42)"
   ],
   "id": "603c968cf2ac63e3",
   "outputs": [
    {
     "data": {
      "text/plain": [
       "<torch._C.Generator at 0x10a2a88b0>"
      ]
     },
     "execution_count": 3,
     "metadata": {},
     "output_type": "execute_result"
    }
   ],
   "execution_count": 3
  },
  {
   "metadata": {
    "collapsed": true,
    "ExecuteTime": {
     "end_time": "2025-09-05T17:54:05.312088Z",
     "start_time": "2025-09-05T17:54:05.310089Z"
    }
   },
   "cell_type": "code",
   "source": [
    "def loss_func(speed, theta, t_drop, t_detonate):\n",
    "    set_fy_mission(0, speed, theta)\n",
    "    interval = get_time_interval(0, 0, t_drop, t_detonate)\n",
    "    period = get_lebesgue(interval)\n",
    "    loss = -period\n",
    "    return loss"
   ],
   "id": "initial_id",
   "outputs": [],
   "execution_count": 4
  },
  {
   "metadata": {
    "ExecuteTime": {
     "end_time": "2025-09-05T17:54:05.320449Z",
     "start_time": "2025-09-05T17:54:05.318166Z"
    }
   },
   "cell_type": "code",
   "source": [
    "class Net(nn.Module):\n",
    "    def __init__(self):\n",
    "        super(Net, self).__init__()\n",
    "        self.linear1 = nn.Linear(4, 16)\n",
    "        self.linear2 = nn.Linear(16, 64)\n",
    "        self.linear3 = nn.Linear(64, 32)\n",
    "        self.linear4 = nn.Linear(32, 1)\n",
    "        self.relu = nn.ReLU()\n",
    "\n",
    "    def forward(self, x):\n",
    "        x = self.relu(self.linear1(x))\n",
    "        x = self.relu(self.linear2(x))\n",
    "        x = self.relu(self.linear3(x))\n",
    "        x = self.linear4(x)\n",
    "        return x"
   ],
   "id": "c09908daf2194e27",
   "outputs": [],
   "execution_count": 5
  },
  {
   "metadata": {
    "ExecuteTime": {
     "end_time": "2025-09-05T17:54:05.333516Z",
     "start_time": "2025-09-05T17:54:05.331313Z"
    }
   },
   "cell_type": "code",
   "source": [
    "\"\"\"para_min = np.array([fy_speed_min, 0, 0, 0])\n",
    "para_max = np.array([fy_speed_max, 2*np.pi, t_max, t_max])\n",
    "num_dataset = 1000000\n",
    "x_set = para_min + (para_max - para_min) * np.random.rand(num_dataset, 1)\n",
    "y_set = np.zeros([num_dataset])\n",
    "for i in range(num_dataset):\n",
    "    print('\\r', i, end='')\n",
    "    y_set[i] = loss_func(*x_set[i])\n",
    "    if i % 100 == 0:\n",
    "        np.savez(f\"nn_data{i % 1000}.npz\", x=x_set, y=y_set)\"\"\""
   ],
   "id": "15bde590367ef16",
   "outputs": [
    {
     "data": {
      "text/plain": [
       "'para_min = np.array([fy_speed_min, 0, 0, 0])\\npara_max = np.array([fy_speed_max, 2*np.pi, t_max, t_max])\\nnum_dataset = 1000000\\nx_set = para_min + (para_max - para_min) * np.random.rand(num_dataset, 1)\\ny_set = np.zeros([num_dataset])\\nfor i in range(num_dataset):\\n    print(\\'\\r\\', i, end=\\'\\')\\n    y_set[i] = loss_func(*x_set[i])\\n    if i % 100 == 0:\\n        np.savez(f\"nn_data{i % 1000}.npz\", x=x_set, y=y_set)'"
      ]
     },
     "execution_count": 6,
     "metadata": {},
     "output_type": "execute_result"
    }
   ],
   "execution_count": 6
  },
  {
   "metadata": {
    "ExecuteTime": {
     "end_time": "2025-09-05T17:55:48.498240Z",
     "start_time": "2025-09-05T17:55:48.493060Z"
    }
   },
   "cell_type": "code",
   "source": [
    "data = np.load(\"nn_data0.npz\")\n",
    "x = data[\"x\"]\n",
    "y = data[\"y\"]\n",
    "np.savez(f\"nn_data0.npz\", x=x, y=y)\n",
    "x.shape, y.shape"
   ],
   "id": "8280af1ead80c22a",
   "outputs": [
    {
     "data": {
      "text/plain": [
       "((30000, 4), (30000,))"
      ]
     },
     "execution_count": 12,
     "metadata": {},
     "output_type": "execute_result"
    }
   ],
   "execution_count": 12
  },
  {
   "metadata": {
    "ExecuteTime": {
     "end_time": "2025-09-05T17:54:05.445990Z",
     "start_time": "2025-09-05T17:54:05.432261Z"
    }
   },
   "cell_type": "code",
   "source": [
    "X_tensor = torch.from_numpy(x_set).float()  # 转换为float32类型\n",
    "y_tensor = torch.from_numpy(y_set).long()   # 转换为long类型（用于分类）\n",
    "dataset = TensorDataset(X_tensor, y_tensor)\n",
    "dataloader = DataLoader(dataset, batch_size=32, shuffle=True)"
   ],
   "id": "cb7390fb8adc2e39",
   "outputs": [
    {
     "ename": "NameError",
     "evalue": "name 'x_set' is not defined",
     "output_type": "error",
     "traceback": [
      "\u001B[31m---------------------------------------------------------------------------\u001B[39m",
      "\u001B[31mNameError\u001B[39m                                 Traceback (most recent call last)",
      "\u001B[36mCell\u001B[39m\u001B[36m \u001B[39m\u001B[32mIn[8]\u001B[39m\u001B[32m, line 1\u001B[39m\n\u001B[32m----> \u001B[39m\u001B[32m1\u001B[39m X_tensor = torch.from_numpy(\u001B[43mx_set\u001B[49m).float()  \u001B[38;5;66;03m# 转换为float32类型\u001B[39;00m\n\u001B[32m      2\u001B[39m y_tensor = torch.from_numpy(y_set).long()   \u001B[38;5;66;03m# 转换为long类型（用于分类）\u001B[39;00m\n\u001B[32m      3\u001B[39m dataset = TensorDataset(X_tensor, y_tensor)\n",
      "\u001B[31mNameError\u001B[39m: name 'x_set' is not defined"
     ]
    }
   ],
   "execution_count": 8
  },
  {
   "metadata": {},
   "cell_type": "code",
   "source": [
    "for batch_x, batch_y in dataloader:\n",
    "    print(f\"Batch X shape: {batch_x.shape}, Batch y shape: {batch_y.shape}\")\n",
    "    break  # 只查看第一个batch"
   ],
   "id": "3f4fc563e883daba",
   "outputs": [],
   "execution_count": null
  }
 ],
 "metadata": {
  "kernelspec": {
   "display_name": "Python 3",
   "language": "python",
   "name": "python3"
  },
  "language_info": {
   "codemirror_mode": {
    "name": "ipython",
    "version": 2
   },
   "file_extension": ".py",
   "mimetype": "text/x-python",
   "name": "python",
   "nbconvert_exporter": "python",
   "pygments_lexer": "ipython2",
   "version": "2.7.6"
  }
 },
 "nbformat": 4,
 "nbformat_minor": 5
}
