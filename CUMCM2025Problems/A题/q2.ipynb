{
 "cells": [
  {
   "cell_type": "code",
   "id": "676bff74c15c2efa",
   "metadata": {
    "ExecuteTime": {
     "end_time": "2025-09-05T18:22:24.185943Z",
     "start_time": "2025-09-05T18:22:24.174011Z"
    }
   },
   "source": [
    "import numpy as np\n",
    "%matplotlib notebook\n",
    "from func import *"
   ],
   "outputs": [],
   "execution_count": 6
  },
  {
   "metadata": {
    "collapsed": true,
    "ExecuteTime": {
     "end_time": "2025-09-05T18:22:24.224080Z",
     "start_time": "2025-09-05T18:22:24.222025Z"
    }
   },
   "cell_type": "code",
   "source": [
    "SPEED = 0\n",
    "THETA = 1\n",
    "T_DROP = 2\n",
    "T_DETONATE = 3"
   ],
   "id": "initial_id",
   "outputs": [],
   "execution_count": 7
  },
  {
   "metadata": {},
   "cell_type": "markdown",
   "source": [
    "$$\n",
    "\\arg\\max t = \\arg\\max(t-\\alpha) = \\arg\\min(\\alpha - t)\n",
    "$$"
   ],
   "id": "174505cba978ab4e"
  },
  {
   "metadata": {
    "ExecuteTime": {
     "end_time": "2025-09-05T18:22:24.239402Z",
     "start_time": "2025-09-05T18:22:24.236867Z"
    }
   },
   "cell_type": "code",
   "source": [
    "def loss_func(speed, theta, t_drop, t_detonate):\n",
    "    set_fy_mission(0, speed, theta)\n",
    "    interval = get_time_interval(0, 0, t_drop, t_detonate)\n",
    "    period = get_lebesgue(interval)\n",
    "    loss = -period\n",
    "    return loss"
   ],
   "id": "ea7123148f3bf80",
   "outputs": [],
   "execution_count": 8
  },
  {
   "metadata": {
    "ExecuteTime": {
     "end_time": "2025-09-05T18:22:24.246232Z",
     "start_time": "2025-09-05T18:22:24.243860Z"
    }
   },
   "cell_type": "code",
   "source": [
    "initial_params = [120, 3.141592653589793, 1.5, 3.6]\n",
    "bounds = {\n",
    "    \"speed\": (fy_speed_min, fy_speed_max),\n",
    "    \"theta\": (0, 2 * np.pi),\n",
    "    \"t_drop\": (0, missile_life[0]),\n",
    "    \"t_detonate\": (0, missile_life[0])\n",
    "}"
   ],
   "id": "5a584abb35ebef23",
   "outputs": [],
   "execution_count": 9
  },
  {
   "metadata": {
    "ExecuteTime": {
     "end_time": "2025-09-05T18:26:30.457673Z",
     "start_time": "2025-09-05T18:22:24.256432Z"
    }
   },
   "cell_type": "code",
   "source": [
    "# [120.15380777  , 3.12662804 ,  0.89048598 ,  4.04490423]\n",
    "# [119.6607599, 3.13737534, 0.80789698, 3.76701204]\n",
    "# [119.55659248, 3.12685773, 0.88569734, 3.71451402]\n",
    "# [119.55005595, 3.12755795, 0.88353163, 3.71710548]\n",
    "x = np.array([119.55005595, 3.12755795, 0.88353163, 3.71710548])\n",
    "l = loss_func(*x)\n",
    "print(x, l)\n",
    "np.random.seed(42)\n",
    "for i in range(1000):\n",
    "    print('\\r', i, end=' ')\n",
    "    dx = (np.random.rand(*x.shape) - 0.5) * 0.05\n",
    "    nl = loss_func(*(x + dx))\n",
    "    if nl < l:\n",
    "        x += dx\n",
    "        l = nl\n",
    "        print(x, l)"
   ],
   "id": "710c573499971768",
   "outputs": [
    {
     "name": "stdout",
     "output_type": "stream",
     "text": [
      "[119.55005595   3.12755795   0.88353163   3.71710548] -4.450000000000001\n",
      " 168 [119.52906764   3.12878352   0.87905147   3.74122441] -4.5\n",
      " 214 [119.50589512   3.12738687   0.88229353   3.71950984] -4.500000000000001\n",
      " 999 "
     ]
    }
   ],
   "execution_count": 10
  },
  {
   "metadata": {
    "ExecuteTime": {
     "end_time": "2025-09-05T18:26:30.480159Z",
     "start_time": "2025-09-05T18:26:30.478428Z"
    }
   },
   "cell_type": "code",
   "source": "",
   "id": "1e38b45ad3507ce",
   "outputs": [],
   "execution_count": null
  }
 ],
 "metadata": {
  "kernelspec": {
   "display_name": "Python 3",
   "language": "python",
   "name": "python3"
  },
  "language_info": {
   "codemirror_mode": {
    "name": "ipython",
    "version": 2
   },
   "file_extension": ".py",
   "mimetype": "text/x-python",
   "name": "python",
   "nbconvert_exporter": "python",
   "pygments_lexer": "ipython2",
   "version": "2.7.6"
  }
 },
 "nbformat": 4,
 "nbformat_minor": 5
}
