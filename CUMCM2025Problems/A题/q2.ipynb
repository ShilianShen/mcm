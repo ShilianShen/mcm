{
 "cells": [
  {
   "cell_type": "code",
   "id": "676bff74c15c2efa",
   "metadata": {
    "ExecuteTime": {
     "end_time": "2025-09-05T18:45:57.783576Z",
     "start_time": "2025-09-05T18:45:57.778676Z"
    }
   },
   "source": [
    "import numpy as np\n",
    "%matplotlib notebook\n",
    "from func import *"
   ],
   "outputs": [],
   "execution_count": 16
  },
  {
   "metadata": {
    "collapsed": true,
    "ExecuteTime": {
     "end_time": "2025-09-05T18:45:57.790151Z",
     "start_time": "2025-09-05T18:45:57.788356Z"
    }
   },
   "cell_type": "code",
   "source": [
    "SPEED = 0\n",
    "THETA = 1\n",
    "T_DROP = 2\n",
    "T_DETONATE = 3"
   ],
   "id": "initial_id",
   "outputs": [],
   "execution_count": 17
  },
  {
   "metadata": {},
   "cell_type": "markdown",
   "source": [
    "$$\n",
    "\\arg\\max t = \\arg\\max(t-\\alpha) = \\arg\\min(\\alpha - t)\n",
    "$$"
   ],
   "id": "174505cba978ab4e"
  },
  {
   "metadata": {
    "ExecuteTime": {
     "end_time": "2025-09-05T18:45:57.800257Z",
     "start_time": "2025-09-05T18:45:57.798302Z"
    }
   },
   "cell_type": "code",
   "source": [
    "def loss_func(x):\n",
    "    speed, theta, t_drop, t_detonate = x\n",
    "    set_fy_mission(0, speed, theta)\n",
    "    interval = get_time_interval(0, 0, t_drop, t_detonate)\n",
    "    period = get_lebesgue(interval)\n",
    "    loss = -period\n",
    "    return loss"
   ],
   "id": "ea7123148f3bf80",
   "outputs": [],
   "execution_count": 18
  },
  {
   "metadata": {
    "ExecuteTime": {
     "end_time": "2025-09-05T18:45:57.809016Z",
     "start_time": "2025-09-05T18:45:57.807040Z"
    }
   },
   "cell_type": "code",
   "source": [
    "initial_params = [120, 3.141592653589793, 1.5, 3.6]\n",
    "bounds = [(fy_speed_min, fy_speed_max), (0, 2 * np.pi), (0, missile_life[0]), (0, missile_life[0])]"
   ],
   "id": "5a584abb35ebef23",
   "outputs": [],
   "execution_count": 19
  },
  {
   "metadata": {
    "ExecuteTime": {
     "end_time": "2025-09-05T18:46:17.340625Z",
     "start_time": "2025-09-05T18:45:57.814551Z"
    }
   },
   "cell_type": "code",
   "source": [
    "import numpy as np\n",
    "from scipy.optimize import differential_evolution\n",
    "\n",
    "\n",
    "# 使用差分进化算法进行优化\n",
    "result = differential_evolution(\n",
    "    loss_func,\n",
    "    bounds,\n",
    "    strategy='best1bin',  # 变异策略\n",
    "    maxiter=1000,         # 最大迭代次数\n",
    "    popsize=15,           # 种群大小\n",
    "    tol=0.01,             # 收敛容差\n",
    "    mutation=(0.5, 1),    # 变异系数范围\n",
    "    recombination=0.7,    # 交叉概率\n",
    "    seed=42               # 随机种子（可选）\n",
    ")\n",
    "\n",
    "print(\"优化结果:\")\n",
    "print(f\"最优参数: {result.x}\")\n",
    "print(f\"最优值: {result.fun}\")\n",
    "print(f\"迭代次数: {result.nit}\")\n",
    "print(f\"是否成功: {result.success}\")\n",
    "print(f\"消息: {result.message}\")"
   ],
   "id": "710c573499971768",
   "outputs": [
    {
     "name": "stdout",
     "output_type": "stream",
     "text": [
      "优化结果:\n",
      "最优参数: [139.16090109   0.44595541   7.45013911  62.97151311]\n",
      "最优值: 0.0\n",
      "迭代次数: 1\n",
      "是否成功: True\n",
      "消息: Optimization terminated successfully.\n"
     ]
    }
   ],
   "execution_count": 20
  },
  {
   "metadata": {
    "ExecuteTime": {
     "end_time": "2025-09-05T18:46:17.346196Z",
     "start_time": "2025-09-05T18:46:17.345095Z"
    }
   },
   "cell_type": "code",
   "source": "",
   "id": "1e38b45ad3507ce",
   "outputs": [],
   "execution_count": null
  }
 ],
 "metadata": {
  "kernelspec": {
   "display_name": "Python 3",
   "language": "python",
   "name": "python3"
  },
  "language_info": {
   "codemirror_mode": {
    "name": "ipython",
    "version": 2
   },
   "file_extension": ".py",
   "mimetype": "text/x-python",
   "name": "python",
   "nbconvert_exporter": "python",
   "pygments_lexer": "ipython2",
   "version": "2.7.6"
  }
 },
 "nbformat": 4,
 "nbformat_minor": 5
}
