{
 "cells": [
  {
   "cell_type": "code",
   "id": "676bff74c15c2efa",
   "metadata": {
    "ExecuteTime": {
     "end_time": "2025-09-05T11:10:39.468805Z",
     "start_time": "2025-09-05T11:10:39.463852Z"
    }
   },
   "source": [
    "%matplotlib notebook\n",
    "from func import *\n",
    "import scipy"
   ],
   "outputs": [],
   "execution_count": 3
  },
  {
   "metadata": {
    "collapsed": true,
    "ExecuteTime": {
     "end_time": "2025-09-05T11:10:39.493342Z",
     "start_time": "2025-09-05T11:10:39.480810Z"
    }
   },
   "cell_type": "code",
   "source": [
    "SPEED = 0\n",
    "THETA = 1\n",
    "T_DROP = 2\n",
    "T_DETONATE = 3\n",
    "# params = np.array([70, 10, 10, 11])"
   ],
   "id": "initial_id",
   "outputs": [
    {
     "name": "stdout",
     "output_type": "stream",
     "text": [
      "[-1 -1] 0\n"
     ]
    }
   ],
   "execution_count": 4
  },
  {
   "metadata": {},
   "cell_type": "code",
   "outputs": [],
   "execution_count": null,
   "source": [
    "def loss_func(params):\n",
    "    set_fy_mission(0, params[SPEED], params[THETA])\n",
    "    interval = get_time_interval(0, 0, params[T_DROP], params[T_DETONATE])\n",
    "    period = get_lebesgue(interval)"
   ],
   "id": "ea7123148f3bf80"
  },
  {
   "metadata": {
    "ExecuteTime": {
     "end_time": "2025-09-05T11:10:39.503529Z",
     "start_time": "2025-09-05T11:10:39.499825Z"
    }
   },
   "cell_type": "code",
   "source": [
    "from scipy.optimize import minimize\n",
    "\n",
    "# 1. 定义目标函数\n",
    "def objective_function(x):\n",
    "    return x**2 + 5*np.sin(x)\n",
    "\n",
    "# 2. 初始猜测点\n",
    "initial_guess = 0.0\n",
    "\n",
    "# 3. 调用 minimize 方法\n",
    "# method='BFGS' 是一种准牛顿法，它利用梯度信息，即使你不直接提供梯度。\n",
    "result = minimize(objective_function, initial_guess, method='BFGS')\n",
    "\n",
    "# 4. 输出结果\n",
    "print(\"优化是否成功:\", result.success)\n",
    "print(\"最优解 x =\", result.x[0])\n",
    "print(\"最小值 f(x) =\", result.fun)\n",
    "print(\"迭代次数:\", result.nit)\n",
    "print(\"函数评估次数:\", result.nfev)"
   ],
   "id": "1b6b3d0215791d00",
   "outputs": [
    {
     "name": "stdout",
     "output_type": "stream",
     "text": [
      "优化是否成功: True\n",
      "最优解 x = -1.1105105128476624\n",
      "最小值 f(x) = -3.246394272691539\n",
      "迭代次数: 5\n",
      "函数评估次数: 12\n"
     ]
    }
   ],
   "execution_count": 5
  }
 ],
 "metadata": {
  "kernelspec": {
   "display_name": "Python 3",
   "language": "python",
   "name": "python3"
  },
  "language_info": {
   "codemirror_mode": {
    "name": "ipython",
    "version": 2
   },
   "file_extension": ".py",
   "mimetype": "text/x-python",
   "name": "python",
   "nbconvert_exporter": "python",
   "pygments_lexer": "ipython2",
   "version": "2.7.6"
  }
 },
 "nbformat": 4,
 "nbformat_minor": 5
}
