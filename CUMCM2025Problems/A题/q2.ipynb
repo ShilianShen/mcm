{
 "cells": [
  {
   "cell_type": "code",
   "id": "676bff74c15c2efa",
   "metadata": {
    "ExecuteTime": {
     "end_time": "2025-09-05T16:36:06.930848Z",
     "start_time": "2025-09-05T16:36:06.926880Z"
    }
   },
   "source": [
    "import numpy as np\n",
    "%matplotlib notebook\n",
    "from func import *"
   ],
   "outputs": [],
   "execution_count": 11
  },
  {
   "metadata": {
    "collapsed": true,
    "ExecuteTime": {
     "end_time": "2025-09-05T16:36:06.941142Z",
     "start_time": "2025-09-05T16:36:06.938168Z"
    }
   },
   "cell_type": "code",
   "source": [
    "SPEED = 0\n",
    "THETA = 1\n",
    "T_DROP = 2\n",
    "T_DETONATE = 3"
   ],
   "id": "initial_id",
   "outputs": [],
   "execution_count": 12
  },
  {
   "metadata": {},
   "cell_type": "markdown",
   "source": [
    "$$\n",
    "\\arg\\max t = \\arg\\max(t-\\alpha) = \\arg\\min(\\alpha - t)\n",
    "$$"
   ],
   "id": "174505cba978ab4e"
  },
  {
   "metadata": {
    "ExecuteTime": {
     "end_time": "2025-09-05T16:36:06.951768Z",
     "start_time": "2025-09-05T16:36:06.949731Z"
    }
   },
   "cell_type": "code",
   "source": [
    "def loss_func(speed, theta, t_drop, t_detonate):\n",
    "    set_fy_mission(0, speed, theta)\n",
    "    interval = get_time_interval(0, 0, t_drop, t_detonate)\n",
    "    period = get_lebesgue(interval)\n",
    "    loss = -period\n",
    "    return loss"
   ],
   "id": "ea7123148f3bf80",
   "outputs": [],
   "execution_count": 13
  },
  {
   "metadata": {
    "ExecuteTime": {
     "end_time": "2025-09-05T16:36:06.960093Z",
     "start_time": "2025-09-05T16:36:06.958143Z"
    }
   },
   "cell_type": "code",
   "source": [
    "initial_params = [120, 3.141592653589793, 1.5, 3.6]\n",
    "bounds = {\n",
    "    \"speed\": (fy_speed_min, fy_speed_max),\n",
    "    \"theta\": (0, 2 * np.pi),\n",
    "    \"t_drop\": (0, missile_life[0]),\n",
    "    \"t_detonate\": (0, missile_life[0])\n",
    "}"
   ],
   "id": "5a584abb35ebef23",
   "outputs": [],
   "execution_count": 14
  },
  {
   "metadata": {
    "ExecuteTime": {
     "end_time": "2025-09-05T16:36:44.523013Z",
     "start_time": "2025-09-05T16:36:06.965426Z"
    }
   },
   "cell_type": "code",
   "source": [
    "# [120.15380777  , 3.12662804 ,  0.89048598 ,  4.04490423]\n",
    "# [119.6607599, 3.13737534, 0.80789698, 3.76701204]\n",
    "# [119.55659248, 3.12685773, 0.88569734, 3.71451402]\n",
    "# [119.55005595, 3.12755795, 0.88353163, 3.71710548]\n",
    "x = np.array([119.55005595, 3.12755795, 0.88353163, 3.71710548])\n",
    "l = loss_func(*x)\n",
    "print(x, l)\n",
    "np.random.seed(42)\n",
    "for i in range(1000):\n",
    "    print('\\r', i, end=' ')\n",
    "    dx = (np.random.rand(*x.shape) - 0.5) * 0.1\n",
    "    nl = loss_func(*(x + dx))\n",
    "    if nl < l:\n",
    "        x += dx\n",
    "        l = nl\n",
    "        print(x, l)"
   ],
   "id": "710c573499971768",
   "outputs": [
    {
     "name": "stdout",
     "output_type": "stream",
     "text": [
      "[119.55005595   3.12755795   0.88353163   3.71710548] -4.480000000000001\n",
      " 73 "
     ]
    },
    {
     "ename": "KeyboardInterrupt",
     "evalue": "",
     "output_type": "error",
     "traceback": [
      "\u001B[31m---------------------------------------------------------------------------\u001B[39m",
      "\u001B[31mKeyboardInterrupt\u001B[39m                         Traceback (most recent call last)",
      "\u001B[36mCell\u001B[39m\u001B[36m \u001B[39m\u001B[32mIn[15]\u001B[39m\u001B[32m, line 12\u001B[39m\n\u001B[32m     10\u001B[39m \u001B[38;5;28mprint\u001B[39m(\u001B[33m'\u001B[39m\u001B[38;5;130;01m\\r\u001B[39;00m\u001B[33m'\u001B[39m, i, end=\u001B[33m'\u001B[39m\u001B[33m \u001B[39m\u001B[33m'\u001B[39m)\n\u001B[32m     11\u001B[39m dx = (np.random.rand(*x.shape) - \u001B[32m0.5\u001B[39m) * \u001B[32m0.1\u001B[39m\n\u001B[32m---> \u001B[39m\u001B[32m12\u001B[39m nl = \u001B[43mloss_func\u001B[49m\u001B[43m(\u001B[49m\u001B[43m*\u001B[49m\u001B[43m(\u001B[49m\u001B[43mx\u001B[49m\u001B[43m \u001B[49m\u001B[43m+\u001B[49m\u001B[43m \u001B[49m\u001B[43mdx\u001B[49m\u001B[43m)\u001B[49m\u001B[43m)\u001B[49m\n\u001B[32m     13\u001B[39m \u001B[38;5;28;01mif\u001B[39;00m nl < l:\n\u001B[32m     14\u001B[39m     x += dx\n",
      "\u001B[36mCell\u001B[39m\u001B[36m \u001B[39m\u001B[32mIn[13]\u001B[39m\u001B[32m, line 3\u001B[39m, in \u001B[36mloss_func\u001B[39m\u001B[34m(speed, theta, t_drop, t_detonate)\u001B[39m\n\u001B[32m      1\u001B[39m \u001B[38;5;28;01mdef\u001B[39;00m\u001B[38;5;250m \u001B[39m\u001B[34mloss_func\u001B[39m(speed, theta, t_drop, t_detonate):\n\u001B[32m      2\u001B[39m     set_fy_mission(\u001B[32m0\u001B[39m, speed, theta)\n\u001B[32m----> \u001B[39m\u001B[32m3\u001B[39m     interval = \u001B[43mget_time_interval\u001B[49m\u001B[43m(\u001B[49m\u001B[32;43m0\u001B[39;49m\u001B[43m,\u001B[49m\u001B[43m \u001B[49m\u001B[32;43m0\u001B[39;49m\u001B[43m,\u001B[49m\u001B[43m \u001B[49m\u001B[43mt_drop\u001B[49m\u001B[43m,\u001B[49m\u001B[43m \u001B[49m\u001B[43mt_detonate\u001B[49m\u001B[43m)\u001B[49m\n\u001B[32m      4\u001B[39m     period = get_lebesgue(interval)\n\u001B[32m      5\u001B[39m     loss = -period\n",
      "\u001B[36mFile \u001B[39m\u001B[32m~/Documents/Universities/mcm/CUMCM2025Problems/A题/func.py:96\u001B[39m, in \u001B[36mget_time_interval\u001B[39m\u001B[34m(m_id, fy_id, t_drop, t_detonate, res)\u001B[39m\n\u001B[32m     94\u001B[39m T = \u001B[38;5;28mmin\u001B[39m(t_drop + t_detonate + smoke_period, missile_life[m_id])\n\u001B[32m     95\u001B[39m \u001B[38;5;28;01mfor\u001B[39;00m t \u001B[38;5;129;01min\u001B[39;00m np.arange(\u001B[32m0\u001B[39m, T, res):\n\u001B[32m---> \u001B[39m\u001B[32m96\u001B[39m     missile_position = \u001B[43mget_missile_position\u001B[49m\u001B[43m(\u001B[49m\u001B[43mm_id\u001B[49m\u001B[43m,\u001B[49m\u001B[43m \u001B[49m\u001B[43mt\u001B[49m\u001B[43m)\u001B[49m\n\u001B[32m     97\u001B[39m     fy_position = get_fy_position(fy_id, t)\n\u001B[32m     98\u001B[39m     smoke_position = get_smoke_position(fy_id, t_drop, t_detonate, t)\n",
      "\u001B[36mFile \u001B[39m\u001B[32m~/Documents/Universities/mcm/CUMCM2025Problems/A题/func.py:9\u001B[39m, in \u001B[36mget_missile_position\u001B[39m\u001B[34m(m_id, t_now)\u001B[39m\n\u001B[32m      7\u001B[39m start = missiles[m_id]\n\u001B[32m      8\u001B[39m direction = fake_target - start\n\u001B[32m----> \u001B[39m\u001B[32m9\u001B[39m velocity = missile_speed / \u001B[43mnorm\u001B[49m\u001B[43m(\u001B[49m\u001B[43mdirection\u001B[49m\u001B[43m)\u001B[49m * direction\n\u001B[32m     10\u001B[39m missile_position = start + velocity * t_now\n\u001B[32m     11\u001B[39m content.append(\u001B[33m\"\u001B[39m\u001B[33mmissile\u001B[39m\u001B[33m\"\u001B[39m, missile_position)\n",
      "\u001B[36mFile \u001B[39m\u001B[32m/opt/anaconda3/envs/ml_evn/lib/python3.12/site-packages/numpy/linalg/_linalg.py:2575\u001B[39m, in \u001B[36mnorm\u001B[39m\u001B[34m(x, ord, axis, keepdims)\u001B[39m\n\u001B[32m   2571\u001B[39m \u001B[38;5;28;01mdef\u001B[39;00m\u001B[38;5;250m \u001B[39m\u001B[34m_norm_dispatcher\u001B[39m(x, \u001B[38;5;28mord\u001B[39m=\u001B[38;5;28;01mNone\u001B[39;00m, axis=\u001B[38;5;28;01mNone\u001B[39;00m, keepdims=\u001B[38;5;28;01mNone\u001B[39;00m):\n\u001B[32m   2572\u001B[39m     \u001B[38;5;28;01mreturn\u001B[39;00m (x,)\n\u001B[32m-> \u001B[39m\u001B[32m2575\u001B[39m \u001B[38;5;129m@array_function_dispatch\u001B[39m(_norm_dispatcher)\n\u001B[32m   2576\u001B[39m \u001B[38;5;28;01mdef\u001B[39;00m\u001B[38;5;250m \u001B[39m\u001B[34mnorm\u001B[39m(x, \u001B[38;5;28mord\u001B[39m=\u001B[38;5;28;01mNone\u001B[39;00m, axis=\u001B[38;5;28;01mNone\u001B[39;00m, keepdims=\u001B[38;5;28;01mFalse\u001B[39;00m):\n\u001B[32m   2577\u001B[39m \u001B[38;5;250m    \u001B[39m\u001B[33;03m\"\"\"\u001B[39;00m\n\u001B[32m   2578\u001B[39m \u001B[33;03m    Matrix or vector norm.\u001B[39;00m\n\u001B[32m   2579\u001B[39m \n\u001B[32m   (...)\u001B[39m\u001B[32m   2723\u001B[39m \n\u001B[32m   2724\u001B[39m \u001B[33;03m    \"\"\"\u001B[39;00m\n\u001B[32m   2725\u001B[39m     x = asarray(x)\n",
      "\u001B[31mKeyboardInterrupt\u001B[39m: "
     ]
    }
   ],
   "execution_count": 15
  },
  {
   "metadata": {},
   "cell_type": "code",
   "source": "",
   "id": "1e38b45ad3507ce",
   "outputs": [],
   "execution_count": null
  }
 ],
 "metadata": {
  "kernelspec": {
   "display_name": "Python 3",
   "language": "python",
   "name": "python3"
  },
  "language_info": {
   "codemirror_mode": {
    "name": "ipython",
    "version": 2
   },
   "file_extension": ".py",
   "mimetype": "text/x-python",
   "name": "python",
   "nbconvert_exporter": "python",
   "pygments_lexer": "ipython2",
   "version": "2.7.6"
  }
 },
 "nbformat": 4,
 "nbformat_minor": 5
}
